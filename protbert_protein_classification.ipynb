{
 "cells": [
  {
   "cell_type": "code",
   "execution_count": null,
   "metadata": {},
   "outputs": [],
   "source": [
    "!pip install --upgrade pip -q\n",
    "!pip install -U boto3 sagemaker -q\n",
    "!pip install seaborn -q"
   ]
  },
  {
   "cell_type": "code",
   "execution_count": null,
   "metadata": {},
   "outputs": [],
   "source": [
    "import re\n",
    "import json\n",
    "import pandas as pd\n",
    "from tqdm import tqdm\n",
    "import seaborn as sns\n",
    "import matplotlib.pyplot as plt\n",
    "import numpy as np\n",
    "import time\n",
    "import os\n",
    "import numpy as np\n",
    "import pandas as pd\n",
    "import sagemaker\n",
    "import torch\n",
    "import seaborn as sns\n",
    "import matplotlib.pyplot as plt\n",
    "\n",
    "from torch import nn, optim\n",
    "from torch.utils.data import Dataset, DataLoader"
   ]
  },
  {
   "cell_type": "code",
   "execution_count": null,
   "metadata": {},
   "outputs": [],
   "source": [
    "import sagemaker\n",
    "print(sagemaker.__version__)\n",
    "sagemaker_session = sagemaker.Session()\n",
    "role = sagemaker.get_execution_role()"
   ]
  },
  {
   "cell_type": "code",
   "execution_count": null,
   "metadata": {},
   "outputs": [],
   "source": [
    "bucket = sagemaker_session.default_bucket()\n",
    "prefix = \"sagemaker/DEMO-pytorch-bert\"\n"
   ]
  },
  {
   "cell_type": "code",
   "execution_count": null,
   "metadata": {},
   "outputs": [],
   "source": [
    "RANDOM_SEED = 43\n",
    "np.random.seed(RANDOM_SEED)\n",
    "torch.manual_seed(RANDOM_SEED)"
   ]
  },
  {
   "cell_type": "code",
   "execution_count": null,
   "metadata": {},
   "outputs": [],
   "source": [
    "!wget https://services.healthtech.dtu.dk/services/DeepLoc-1.0/deeploc_data.fasta -P ./data -q"
   ]
  },
  {
   "cell_type": "code",
   "execution_count": null,
   "metadata": {},
   "outputs": [],
   "source": [
    "!pip install Bio -q\n",
    "import Bio"
   ]
  },
  {
   "cell_type": "code",
   "execution_count": null,
   "metadata": {},
   "outputs": [],
   "source": [
    "def read_fasta(file_path, columns) :\n",
    "    from Bio.SeqIO.FastaIO import SimpleFastaParser\n",
    "    with open('./data/deeploc_data.fasta') as fasta_file:  # Will close handle cleanly\n",
    "        records = []\n",
    "        for title, sequence in SimpleFastaParser(fasta_file):\n",
    "            record = []\n",
    "            title_splits = title.split(None)\n",
    "            record.append(title_splits[0])  # First word is ID\n",
    "            sequence = \" \".join(sequence)\n",
    "            record.append(sequence)\n",
    "            record.append(len(sequence))\n",
    "            location_splits = title_splits[1].split(\"-\")\n",
    "            record.append(location_splits[0])  # Second word is Location\n",
    "            record.append(location_splits[1])  # Second word is Membrane\n",
    "\n",
    "            if(len(title_splits) > 2):\n",
    "                record.append(0)\n",
    "            else:\n",
    "                record.append(1)\n",
    "                \n",
    "            records.append(record)\n",
    "    return pd.DataFrame(records, columns = columns)\n",
    "        \n",
    "data = read_fasta(\"./tmp/deeploc_data.fasta\", columns=[\"id\", \"sequence\", \"sequence_length\", \"location\", \"membrane\", \"is_train\"])\n",
    "data.head()"
   ]
  },
  {
   "cell_type": "code",
   "execution_count": null,
   "metadata": {},
   "outputs": [],
   "source": [
    "data.info()"
   ]
  },
  {
   "cell_type": "code",
   "execution_count": null,
   "metadata": {},
   "outputs": [],
   "source": [
    "data.isnull().values.any()"
   ]
  },
  {
   "cell_type": "code",
   "execution_count": null,
   "metadata": {},
   "outputs": [],
   "source": [
    "unique_classes = data.location.unique()\n",
    "print(\"Number of classes: \", len(unique_classes))\n",
    "unique_classes"
   ]
  },
  {
   "cell_type": "code",
   "execution_count": null,
   "metadata": {},
   "outputs": [],
   "source": [
    "%matplotlib inline\n",
    "%config InlineBackend.figure_format='retina'\n",
    "sns.set(style='whitegrid', palette='muted', font_scale=1.2)\n",
    "ax = sns.distplot(data['sequence_length'].values)\n",
    "ax.set_xlim(0, 3000)\n",
    "plt.title(f'sequence length distribution')\n",
    "plt.grid(True)"
   ]
  },
  {
   "cell_type": "code",
   "execution_count": null,
   "metadata": {},
   "outputs": [],
   "source": [
    "categories = data.location.astype('category').cat\n",
    "data['location'] = categories.codes\n",
    "class_names = categories.categories\n",
    "num_classes = len(class_names)\n",
    "print(class_names)"
   ]
  },
  {
   "cell_type": "code",
   "execution_count": null,
   "metadata": {},
   "outputs": [],
   "source": [
    "df_train = data[data.is_train == 1]\n",
    "df_train = df_train.drop([\"is_train\"], axis = 1)\n",
    "df_train.shape[0]"
   ]
  },
  {
   "cell_type": "code",
   "execution_count": null,
   "metadata": {},
   "outputs": [],
   "source": [
    "df_test = data[data.is_train == 0]\n",
    "df_test = df_test.drop([\"is_train\"], axis = 1)\n",
    "df_test.shape[0]"
   ]
  },
  {
   "cell_type": "code",
   "execution_count": null,
   "metadata": {},
   "outputs": [],
   "source": [
    "train_dataset_path = './data/deeploc_per_protein_train.csv'\n",
    "test_dataset_path = './data/deeploc_per_protein_test.csv'\n",
    "df_train.to_csv(train_dataset_path)\n",
    "df_test.to_csv(test_dataset_path)\n",
    "inputs_train = sagemaker_session.upload_data(train_dataset_path, bucket=bucket, key_prefix=prefix)\n",
    "inputs_test = sagemaker_session.upload_data(test_dataset_path, bucket=bucket, key_prefix=prefix)"
   ]
  },
  {
   "cell_type": "code",
   "execution_count": null,
   "metadata": {},
   "outputs": [],
   "source": [
    "print(\"S3 location for training data: \", inputs_train )\n",
    "print(\"S3 location for testing data: \", inputs_test )"
   ]
  },
  {
   "cell_type": "code",
   "execution_count": null,
   "metadata": {},
   "outputs": [],
   "source": [
    "!pygmentize code/train.py"
   ]
  },
  {
   "cell_type": "code",
   "execution_count": null,
   "metadata": {},
   "outputs": [],
   "source": [
    "# Training job will take around 20-25 mins to execute. \n",
    "\n",
    "from sagemaker.pytorch import PyTorch\n",
    "\n",
    "\n",
    "TRAINING_JOB_NAME=\"protbert-training-pytorch-{}\".format(time.strftime(\"%m-%d-%Y-%H-%M-%S\")) \n",
    "print('Training job name: ', TRAINING_JOB_NAME)\n",
    "\n",
    "estimator = PyTorch(\n",
    "    entry_point=\"train.py\",\n",
    "    source_dir=\"code\",\n",
    "    role=role,\n",
    "    framework_version=\"1.6.0\",\n",
    "    py_version=\"py36\",\n",
    "    instance_count=1,  # this script support distributed training for only GPU instances.\n",
    "    instance_type=\"ml.p3.16xlarge\",\n",
    "    distribution={'smdistributed':{\n",
    "        'dataparallel':{\n",
    "            'enabled': True\n",
    "        }\n",
    "    }\n",
    "                 },\n",
    "    debugger_hook_config=False,\n",
    "    hyperparameters={\n",
    "        \"epochs\": 3,\n",
    "        \"num_labels\": num_classes,\n",
    "        \"batch-size\": 4,\n",
    "        \"test-batch-size\": 4,\n",
    "        \"log-interval\": 100,\n",
    "        \"frozen_layers\": 15,\n",
    "    },\n",
    "    metric_definitions=[\n",
    "                   {'Name': 'train:loss', 'Regex': 'Training Loss: ([0-9\\\\.]+)'},\n",
    "                   {'Name': 'test:accuracy', 'Regex': 'Validation Accuracy: ([0-9\\\\.]+)'},\n",
    "                   {'Name': 'test:loss', 'Regex': 'Validation loss: ([0-9\\\\.]+)'},\n",
    "                ]\n",
    ")\n",
    "estimator.fit({\"training\": inputs_train, \"testing\": inputs_test}, job_name=TRAINING_JOB_NAME)"
   ]
  },
  {
   "cell_type": "code",
   "execution_count": null,
   "metadata": {},
   "outputs": [],
   "source": [
    "model_data = estimator.model_data\n",
    "print(\"Storing {} as model_data\".format(model_data))\n",
    "%store model_data"
   ]
  },
  {
   "cell_type": "code",
   "execution_count": null,
   "metadata": {},
   "outputs": [],
   "source": [
    "%store -r model_data\n",
    "\n",
    "# If no model was found, set it manually here.\n",
    "# model_data = 's3://sagemaker-{region}-XXX/protbert-training-pytorch-XX-XX-XXXX-XX-XX-XX/output/model.tar.gz'\n",
    "\n",
    "print(\"Using this model: {}\".format(model_data))"
   ]
  },
  {
   "cell_type": "code",
   "execution_count": null,
   "metadata": {},
   "outputs": [],
   "source": [
    "import sagemaker\n",
    "\n",
    "from sagemaker.pytorch import PyTorchModel\n",
    "ENDPOINT_NAME = \"protbert-inference-pytorch-1-{}\".format(time.strftime(\"%m-%d-%Y-%H-%M-%S\"))\n",
    "print(\"Endpoint name: \", ENDPOINT_NAME)\n",
    "model = PyTorchModel(model_data=model_data, source_dir='code',\n",
    "                        entry_point='inference.py', role=role, framework_version='1.6.0', py_version='py3')"
   ]
  },
  {
   "cell_type": "code",
   "execution_count": null,
   "metadata": {},
   "outputs": [],
   "source": [
    "%%time\n",
    "predictor = model.deploy(initial_instance_count=1, instance_type='ml.m5.2xlarge', endpoint_name=ENDPOINT_NAME)"
   ]
  },
  {
   "cell_type": "code",
   "execution_count": null,
   "metadata": {},
   "outputs": [],
   "source": [
    "import boto3\n",
    "\n",
    "runtime= boto3.client('runtime.sagemaker')\n",
    "client = boto3.client('sagemaker')\n",
    "\n",
    "endpoint_desc = client.describe_endpoint(EndpointName=ENDPOINT_NAME)\n",
    "print(endpoint_desc)\n",
    "print('---'*30)"
   ]
  },
  {
   "cell_type": "code",
   "execution_count": null,
   "metadata": {},
   "outputs": [],
   "source": [
    "predictor.serializer = sagemaker.serializers.JSONSerializer()\n",
    "predictor.deserializer = sagemaker.deserializers.JSONDeserializer()"
   ]
  },
  {
   "cell_type": "code",
   "execution_count": null,
   "metadata": {},
   "outputs": [],
   "source": [
    "protein_sequence = 'M G K K D A S T T R T P V D Q Y R K Q I G R Q D Y K K N K P V L K A T R L K A E A K K A A I G I K E V I L V T I A I L V L L F A F Y A F F F L N L T K T D I Y E D S N N'\n",
    "prediction = predictor.predict(protein_sequence)\n",
    "print(prediction)\n",
    "print(f'Protein Sequence: {protein_sequence}')\n",
    "print(\"Sequence Localization Ground Truth is: {} - prediction is: {}\".format('Endoplasmic.reticulum', class_names[prediction[0]]))"
   ]
  },
  {
   "cell_type": "code",
   "execution_count": null,
   "metadata": {},
   "outputs": [],
   "source": [
    "protein_sequence = 'M S M T I L P L E L I D K C I G S N L W V I M K S E R E F A G T L V G F D D Y V N I V L K D V T E Y D T V T G V T E K H S E M L L N G N G M C M L I P G G K P E'\n",
    "prediction = predictor.predict(protein_sequence)\n",
    "print(prediction)\n",
    "print(f'Protein Sequence: {protein_sequence}')\n",
    "print(\"Sequence Localization Ground Truth is: {} - prediction is: {}\".format('Nucleus', class_names[prediction[0]]))"
   ]
  },
  {
   "cell_type": "code",
   "execution_count": null,
   "metadata": {},
   "outputs": [],
   "source": [
    "seq = 'M G G P T R R H Q E E G S A E C L G G P S T R A A P G P G L R D F H F T T A G P S K A D R L G D A A Q I H R E R M R P V Q C G D G S G E R V F L Q S P G S I G T L Y I R L D L N S Q R S T C C C L L N A G T K G M C'\n",
    "prediction = predictor.predict(seq)\n",
    "print(prediction)\n",
    "print(f'Protein Sequence: {seq}')\n",
    "print(\"Sequence Localization Ground Truth is: {} - prediction is: {}\".format('Cytoplasm',class_names[prediction[0]]))"
   ]
  },
  {
   "cell_type": "code",
   "execution_count": null,
   "metadata": {},
   "outputs": [],
   "source": [
    "predictor.delete_endpoint()"
   ]
  }
 ],
 "metadata": {
  "instance_type": "ml.m5.4xlarge",
  "kernelspec": {
   "display_name": "Python 3 (PyTorch 1.6 Python 3.6 CPU Optimized)",
   "language": "python",
   "name": "python3__SAGEMAKER_INTERNAL__arn:aws:sagemaker:us-west-2:236514542706:image/pytorch-1.6-cpu-py36-ubuntu16.04-v1"
  },
  "language_info": {
   "codemirror_mode": {
    "name": "ipython",
    "version": 3
   },
   "file_extension": ".py",
   "mimetype": "text/x-python",
   "name": "python",
   "nbconvert_exporter": "python",
   "pygments_lexer": "ipython3",
   "version": "3.6.10"
  }
 },
 "nbformat": 4,
 "nbformat_minor": 4
}
